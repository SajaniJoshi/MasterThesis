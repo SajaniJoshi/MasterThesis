{
 "cells": [
  {
   "cell_type": "code",
   "execution_count": null,
   "metadata": {},
   "outputs": [],
   "source": [
    "from cal_all_merics import save_result_2022, save_result_2010\n",
    "save_result_2022()"
   ]
  },
  {
   "cell_type": "code",
   "execution_count": null,
   "metadata": {},
   "outputs": [],
   "source": [
    "save_result_2010()"
   ]
  },
  {
   "cell_type": "code",
   "execution_count": null,
   "metadata": {},
   "outputs": [],
   "source": [
    "from plot_result import plot_all_results\n",
    "#plot_all_results(\"2022\")\n",
    "plot_all_results(\"2010\")"
   ]
  },
  {
   "cell_type": "code",
   "execution_count": null,
   "metadata": {},
   "outputs": [],
   "source": [
    "from cal_summary import display_iou_f1_ssi\n",
    "display_iou_f1_ssi(\"2010\")"
   ]
  },
  {
   "cell_type": "code",
   "execution_count": 1,
   "metadata": {},
   "outputs": [
    {
     "name": "stdout",
     "output_type": "stream",
     "text": [
      "Data saved to D:\\Source\\Test\\MasterThesis\\metrics\\res_2010\\tbs_VNIR_all_2010.csv\n",
      "Data saved to D:\\Source\\Test\\MasterThesis\\metrics\\res_2010\\tbs_NDV_all_2010.csv\n",
      "Data saved to D:\\Source\\Test\\MasterThesis\\metrics\\res_2010\\tbs_VNIR_band3_2010.csv\n",
      "Data saved to D:\\Source\\Test\\MasterThesis\\metrics\\res_2010\\tbs_NDV_band3_2010.csv\n",
      "Data saved to D:\\Source\\Test\\MasterThesis\\metrics\\res_2010\\tbs_VNIR_aug_2010.csv\n",
      "Data saved to D:\\Source\\Test\\MasterThesis\\metrics\\res_2010\\tbs_VNIR_hp_2010.csv\n",
      "Data saved to D:\\Source\\Test\\MasterThesis\\metrics\\res_2010\\tbs_VNIR_mix_cut_2010.csv\n"
     ]
    }
   ],
   "source": [
    "from cal_temporal_boundary_shift import compute_temporal_boundary_shifts\n",
    "compute_temporal_boundary_shifts()"
   ]
  }
 ],
 "metadata": {
  "kernelspec": {
   "display_name": "base",
   "language": "python",
   "name": "python3"
  },
  "language_info": {
   "codemirror_mode": {
    "name": "ipython",
    "version": 3
   },
   "file_extension": ".py",
   "mimetype": "text/x-python",
   "name": "python",
   "nbconvert_exporter": "python",
   "pygments_lexer": "ipython3",
   "version": "3.12.4"
  }
 },
 "nbformat": 4,
 "nbformat_minor": 2
}
