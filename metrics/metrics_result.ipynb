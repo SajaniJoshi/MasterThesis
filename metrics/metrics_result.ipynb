{
 "cells": [
  {
   "cell_type": "code",
   "execution_count": null,
   "metadata": {},
   "outputs": [],
   "source": [
    "from cal_all_merics import save_result_2022, save_result_2010\n",
    "save_result_2022()"
   ]
  },
  {
   "cell_type": "code",
   "execution_count": null,
   "metadata": {},
   "outputs": [],
   "source": [
    "save_result_2010()"
   ]
  },
  {
   "cell_type": "code",
   "execution_count": null,
   "metadata": {},
   "outputs": [],
   "source": [
    "from plot_result import plot_all_results\n",
    "#plot_all_results(\"2022\")\n",
    "plot_all_results(\"2010\")"
   ]
  },
  {
   "cell_type": "code",
   "execution_count": null,
   "metadata": {},
   "outputs": [],
   "source": [
    "from cal_summary import display_iou_f1_ssi\n",
    "display_iou_f1_ssi(\"2010\")"
   ]
  },
  {
   "cell_type": "code",
   "execution_count": null,
   "metadata": {},
   "outputs": [],
   "source": [
    "from cal_temporal_boundary_shift import compute_temporal_boundary_shifts\n",
    "compute_temporal_boundary_shifts()"
   ]
  },
  {
   "cell_type": "code",
   "execution_count": null,
   "metadata": {},
   "outputs": [],
   "source": [
    "from  cal_summary import display_tbs\n",
    "display_tbs()"
   ]
  },
  {
   "cell_type": "code",
   "execution_count": null,
   "metadata": {},
   "outputs": [],
   "source": [
    "from cal_summary import display_iou_f1_ssi_v1\n",
    "display_iou_f1_ssi_v1(\"2010\")"
   ]
  },
  {
   "cell_type": "code",
   "execution_count": null,
   "metadata": {},
   "outputs": [],
   "source": [
    "from plot_result import plot_all_results\n",
    "plot_all_results(\"2022\")"
   ]
  },
  {
   "cell_type": "code",
   "execution_count": null,
   "metadata": {},
   "outputs": [],
   "source": [
    "import rasterio\n",
    "\n",
    "image_path = r\"D:\\Source\\Input\\Data\\2022\\BB\\08X_Features_Multi\\84_LS_2022_2022_VNIR.tif\"\n",
    "with rasterio.open(image_path) as src:\n",
    "    print(f\"Number of Bands: {src.count}\")\n",
    "    for i in range(1, src.count + 1):\n",
    "        band = src.read(i)\n",
    "        print(f\"Band {i} stats: Min={band.min()}, Max={band.max()}\")"
   ]
  },
  {
   "cell_type": "code",
   "execution_count": null,
   "metadata": {},
   "outputs": [],
   "source": [
    "from loss_plot import  plot_all_loss\n",
    "plot_all_loss()"
   ]
  }
 ],
 "metadata": {
  "kernelspec": {
   "display_name": "base",
   "language": "python",
   "name": "python3"
  },
  "language_info": {
   "codemirror_mode": {
    "name": "ipython",
    "version": 3
   },
   "file_extension": ".py",
   "mimetype": "text/x-python",
   "name": "python",
   "nbconvert_exporter": "python",
   "pygments_lexer": "ipython3",
   "version": "3.12.4"
  }
 },
 "nbformat": 4,
 "nbformat_minor": 2
}
