{
 "cells": [
  {
   "cell_type": "code",
   "execution_count": null,
   "metadata": {},
   "outputs": [],
   "source": [
    "from cal_all_merics import save_result_2022, save_result_2010\n",
    "save_result_2022()"
   ]
  },
  {
   "cell_type": "code",
   "execution_count": null,
   "metadata": {},
   "outputs": [],
   "source": [
    "save_result_2010()"
   ]
  },
  {
   "cell_type": "code",
   "execution_count": null,
   "metadata": {},
   "outputs": [],
   "source": [
    "from plot_result import plot_all_results\n",
    "#plot_all_results(\"2022\")\n",
    "plot_all_results(\"2010\")"
   ]
  },
  {
   "cell_type": "code",
   "execution_count": null,
   "metadata": {},
   "outputs": [],
   "source": [
    "from cal_summary import display_iou_f1_ssi\n",
    "display_iou_f1_ssi(\"2010\")"
   ]
  },
  {
   "cell_type": "code",
   "execution_count": null,
   "metadata": {},
   "outputs": [],
   "source": [
    "from cal_temporal_boundary_shift import compute_temporal_boundary_shifts\n",
    "compute_temporal_boundary_shifts()"
   ]
  },
  {
   "cell_type": "code",
   "execution_count": null,
   "metadata": {},
   "outputs": [],
   "source": [
    "from  cal_summary import display_tbs\n",
    "display_tbs()"
   ]
  },
  {
   "cell_type": "code",
   "execution_count": null,
   "metadata": {},
   "outputs": [],
   "source": [
    "from cal_summary import display_iou_f1_ssi_v1\n",
    "display_iou_f1_ssi_v1(\"2010\")"
   ]
  },
  {
   "cell_type": "code",
   "execution_count": null,
   "metadata": {},
   "outputs": [],
   "source": [
    "from plot_result import plot_all_results\n",
    "plot_all_results(\"2022\")"
   ]
  },
  {
   "cell_type": "code",
   "execution_count": null,
   "metadata": {},
   "outputs": [],
   "source": [
    "import rasterio\n",
    "\n",
    "image_path = r\"D:\\Source\\Input\\Data\\2022\\BB\\08X_Features_Multi\\84_LS_2022_2022_VNIR.tif\"\n",
    "with rasterio.open(image_path) as src:\n",
    "    print(f\"Number of Bands: {src.count}\")\n",
    "    for i in range(1, src.count + 1):\n",
    "        band = src.read(i)\n",
    "        print(f\"Band {i} stats: Min={band.min()}, Max={band.max()}\")"
   ]
  },
  {
   "cell_type": "code",
   "execution_count": null,
   "metadata": {},
   "outputs": [],
   "source": [
    "from loss_plot import  plot_all_loss\n",
    "plot_all_loss()"
   ]
  },
  {
   "cell_type": "code",
   "execution_count": null,
   "metadata": {},
   "outputs": [],
   "source": [
    "import pandas as pd\n",
    "import matplotlib.pyplot as plt\n",
    "import seaborn as sns\n",
    "from ace_tools import display_dataframe_to_user\n",
    "\n",
    "# Data: 2022 and 2010 performance metrics \n",
    "data = {\n",
    "    \"Model Configuration\": [\n",
    "        \"NDV All Bands\", \"NDV 3 Bands\", \"VNIR All Bands\", \"VNIR Augmentation\",\n",
    "        \"VNIR 3 Bands\", \"VNIR Hyperparameter Tuning\", \"VNIR Mixup & CutMix\"\n",
    "    ],\n",
    "    \"IoU (2022)\": [0.64, 0.64, 0.69, 0.68, 0.68, 0.68, 0.69],\n",
    "    \"IoU (2010)\": [0.49, 0.49, 0.61, 0.57, 0.35, 0.65, 0.62],\n",
    "    \"F1 (2022)\": [0.64, 0.63, 0.65, 0.63, 0.64, 0.63, 0.65],\n",
    "    \"F1 (2010)\": [0.63, 0.63, 0.73, 0.69, 0.47, 0.76, 0.74],\n",
    "    \"SSI (2022)\": [0.94, 0.94, 0.93, 0.94, 0.94, 0.94, 0.93],\n",
    "    \"SSI (2010)\": [0.49, 0.49, 0.61, 0.57, 0.35, 0.65, 0.62],\n",
    "}\n",
    "\n",
    "df = pd.DataFrame(data)\n",
    "\n",
    "# Compute TTI as average drop across IoU, F1, and SSI\n",
    "df[\"TTI\"] = (\n",
    "    (df[\"IoU (2022)\"] - df[\"IoU (2010)\"]) +\n",
    "    (df[\"F1 (2022)\"] - df[\"F1 (2010)\"]) +\n",
    "    (df[\"SSI (2022)\"] - df[\"SSI (2010)\"])\n",
    ") / 3\n",
    "\n",
    "# Display the dataframe for thesis inclusion\n",
    "display_dataframe_to_user(\"Temporal Transferability Table with TTI\", df)\n",
    "\n",
    "# Optional plot: TTI comparison\n",
    "plt.figure(figsize=(10, 6))\n",
    "sns.barplot(y=\"Model Configuration\", x=\"TTI\", data=df.sort_values(\"TTI\"), palette=\"crest\")\n",
    "plt.title(\"Temporal Transferability Index (TTI) Across Model Configurations\")\n",
    "plt.xlabel(\"TTI (Lower is Better)\")\n",
    "plt.ylabel(\"Model Configuration\")\n",
    "plt.grid(True, axis='x', linestyle='--', alpha=0.7)\n",
    "plt.tight_layout()\n",
    "plt.show()\n"
   ]
  }
 ],
 "metadata": {
  "kernelspec": {
   "display_name": "base",
   "language": "python",
   "name": "python3"
  },
  "language_info": {
   "codemirror_mode": {
    "name": "ipython",
    "version": 3
   },
   "file_extension": ".py",
   "mimetype": "text/x-python",
   "name": "python",
   "nbconvert_exporter": "python",
   "pygments_lexer": "ipython3",
   "version": "3.12.4"
  }
 },
 "nbformat": 4,
 "nbformat_minor": 2
}
