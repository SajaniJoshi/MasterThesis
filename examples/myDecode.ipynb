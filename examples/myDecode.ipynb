{
 "cells": [
  {
   "cell_type": "code",
   "execution_count": 16,
   "metadata": {},
   "outputs": [
    {
     "name": "stdout",
     "output_type": "stream",
     "text": [
      "imageType: VNIR\n",
      "D:\\Source\\Output\\Result_2022\\VNIR\\648\n",
      "D:\\Source\\Output\\Result_2022\\VNIR\\648\\models\n",
      "D:\\Source\\Output\\Result_2022\\VNIR\\648\\result\n"
     ]
    }
   ],
   "source": [
    "import os\n",
    "os.environ[\"MXNET_CUDNN_LIB_CHECKING\"] = \"0\"\n",
    "os.environ[\"MXNET_CUDNN_AUTOTUNE_DEFAULT\"] = \"0\"\n",
    "import time\n",
    "import random\n",
    "import numpy as np\n",
    "import mxnet as mx\n",
    "from mxnet import  autograd, context\n",
    "from mxnet.base import MXNetError\n",
    "from sklearn.model_selection import train_test_split\n",
    "\n",
    "import myModel\n",
    "from image_Dictionary import ImageDict\n",
    "import const\n",
    "from my_Save import saveAsCSV, SaveModels\n",
    "from mx_Train import myTrain\n",
    "from decode.postprocessing.instance_segmentation import InstSegm\n",
    "from myPlots import lossPlot, visualize_all\n",
    "from iou import  get_iou\n",
    "\n",
    "ctx=context.gpu()\n",
    "mx.nd.waitall()\n",
    "numberOfimages = 648\n",
    "\n",
    "isVnir = True\n",
    "imageType = \"NDV\"\n",
    "if isVnir:\n",
    "    imageType = \"VNIR\"\n",
    "\n",
    "input_directory = const.images_2022\n",
    "output_directory = os.path.join(const.result_2022, imageType, str(numberOfimages))\n",
    "output_models= os.path.join(output_directory,\"models\")\n",
    "result_path = os.path.join(output_directory, \"result\")\n",
    "lossFile =   os.path.join(output_directory,\"loss.csv\") \n",
    "print('imageType:', imageType)\n",
    "\n",
    "def makedir(path):\n",
    "    os.makedirs(path, exist_ok=True)\n",
    "    print(path)\n",
    "    \n",
    "for i in [output_directory, output_models, result_path]:\n",
    "    makedir(i)"
   ]
  },
  {
   "cell_type": "code",
   "execution_count": 5,
   "metadata": {},
   "outputs": [
    {
     "name": "stdout",
     "output_type": "stream",
     "text": [
      "ID not in image_dict: 6586\n",
      "Image contains NaN values 6920.tif.\n",
      "Corrupted or invalid image: 6920.tif\n",
      "647\n",
      "638\n"
     ]
    }
   ],
   "source": [
    "#Function to load images and masks and Preprocessing\n",
    "images= ImageDict(const.images_2022,  False)\n",
    "image_dict  = images.load_tif_files(imageType, numberOfimages = numberOfimages)\n",
    "masks = ImageDict(const.masks_2022, True)\n",
    "mask_dict  = masks.load_tif_files(imageType, image_dict, numberOfimages = numberOfimages)\n",
    "train_ids, val_ids = train_test_split(list(mask_dict.keys()), test_size=0.2, random_state=42)\n",
    "print(len(image_dict))\n",
    "print(len(mask_dict))\n"
   ]
  },
  {
   "cell_type": "code",
   "execution_count": 6,
   "metadata": {},
   "outputs": [],
   "source": [
    "def get_images(ids, image_dict):\n",
    "    data=  np.array([image_dict[id].image for id in ids])\n",
    "    return mx.nd.array(data)\n",
    "\n",
    "train_images =get_images(train_ids, image_dict)\n",
    "train_masks = get_images(train_ids, mask_dict)\n",
    "val_images = get_images(val_ids, image_dict)\n",
    "val_masks = get_images(val_ids, mask_dict)"
   ]
  },
  {
   "cell_type": "code",
   "execution_count": 7,
   "metadata": {},
   "outputs": [],
   "source": [
    "batch_size=4\n",
    "try:\n",
    "    train_dataset = mx.gluon.data.ArrayDataset(train_images, train_masks)\n",
    "    train_loader = mx.gluon.data.DataLoader(train_dataset, batch_size=batch_size, num_workers=0,shuffle=True)\n",
    "    val_loader = mx.gluon.data.DataLoader(mx.gluon.data.ArrayDataset(val_images, val_masks), batch_size=batch_size, num_workers=0, shuffle=False)\n",
    "\n",
    "except Exception as e:\n",
    "    print(f\"Error creating data loaders: {e}\")"
   ]
  },
  {
   "cell_type": "code",
   "execution_count": 5,
   "metadata": {},
   "outputs": [
    {
     "name": "stdout",
     "output_type": "stream",
     "text": [
      "depth:= 0, nfilters: 32, nheads::8, widths::1\n",
      "depth:= 1, nfilters: 64, nheads::16, widths::1\n",
      "depth:= 2, nfilters: 128, nheads::32, widths::1\n",
      "depth:= 3, nfilters: 256, nheads::64, widths::1\n",
      "depth:= 4, nfilters: 512, nheads::128, widths::1\n",
      "depth:= 5, nfilters: 1024, nheads::256, widths::1\n",
      "depth:= 6, nfilters: 512, nheads::256, widths::1\n",
      "depth:= 7, nfilters: 256, nheads::128, widths::1\n",
      "depth:= 8, nfilters: 128, nheads::64, widths::1\n",
      "depth:= 9, nfilters: 64, nheads::32, widths::1\n",
      "depth:= 10, nfilters: 32, nheads::16, widths::1\n",
      "Start training now...\n",
      "Epoch 0: Current Learning Rate = 0.001\n"
     ]
    },
    {
     "name": "stderr",
     "output_type": "stream",
     "text": [
      "Training Epoch 0:   0%|          | 0/128 [00:01<?, ?it/s]\n"
     ]
    },
    {
     "name": "stdout",
     "output_type": "stream",
     "text": [
      "cuDNN execution failed. Retrying... (1/5)\n",
      "depth:= 0, nfilters: 32, nheads::8, widths::1\n",
      "depth:= 1, nfilters: 64, nheads::16, widths::1\n",
      "depth:= 2, nfilters: 128, nheads::32, widths::1\n",
      "depth:= 3, nfilters: 256, nheads::64, widths::1\n",
      "depth:= 4, nfilters: 512, nheads::128, widths::1\n",
      "depth:= 5, nfilters: 1024, nheads::256, widths::1\n",
      "depth:= 6, nfilters: 512, nheads::256, widths::1\n",
      "depth:= 7, nfilters: 256, nheads::128, widths::1\n",
      "depth:= 8, nfilters: 128, nheads::64, widths::1\n",
      "depth:= 9, nfilters: 64, nheads::32, widths::1\n",
      "depth:= 10, nfilters: 32, nheads::16, widths::1\n",
      "Start training now...\n",
      "Epoch 0: Current Learning Rate = 0.001\n"
     ]
    },
    {
     "name": "stderr",
     "output_type": "stream",
     "text": [
      "Training Epoch 0: 100%|██████████| 128/128 [16:53<00:00,  7.92s/it]\n"
     ]
    },
    {
     "name": "stdout",
     "output_type": "stream",
     "text": [
      "Training Loss: 0.5321093385573477\n"
     ]
    },
    {
     "name": "stderr",
     "output_type": "stream",
     "text": [
      "Validation Epoch 0: 100%|██████████| 32/32 [00:22<00:00,  1.40it/s]\n"
     ]
    },
    {
     "name": "stdout",
     "output_type": "stream",
     "text": [
      "Validation Loss: 0.49515161011368036\n",
      "****************************************************************\n",
      "Epoch 1: Current Learning Rate = 0.001\n"
     ]
    },
    {
     "name": "stderr",
     "output_type": "stream",
     "text": [
      "Training Epoch 1: 100%|██████████| 128/128 [16:14<00:00,  7.61s/it]\n"
     ]
    },
    {
     "name": "stdout",
     "output_type": "stream",
     "text": [
      "Training Loss: 0.48898380249738693\n"
     ]
    },
    {
     "name": "stderr",
     "output_type": "stream",
     "text": [
      "Validation Epoch 1: 100%|██████████| 32/32 [00:18<00:00,  1.69it/s]\n"
     ]
    },
    {
     "name": "stdout",
     "output_type": "stream",
     "text": [
      "Validation Loss: 0.48363163974136114\n",
      "****************************************************************\n",
      "Epoch 2: Current Learning Rate = 0.001\n"
     ]
    },
    {
     "name": "stderr",
     "output_type": "stream",
     "text": [
      "Training Epoch 2: 100%|██████████| 128/128 [16:45<00:00,  7.85s/it]\n"
     ]
    },
    {
     "name": "stdout",
     "output_type": "stream",
     "text": [
      "Training Loss: 0.4754446854349226\n"
     ]
    },
    {
     "name": "stderr",
     "output_type": "stream",
     "text": [
      "Validation Epoch 2: 100%|██████████| 32/32 [00:19<00:00,  1.66it/s]\n"
     ]
    },
    {
     "name": "stdout",
     "output_type": "stream",
     "text": [
      "Validation Loss: 0.4825439704582095\n",
      "****************************************************************\n",
      "Epoch 3: Current Learning Rate = 0.001\n"
     ]
    },
    {
     "name": "stderr",
     "output_type": "stream",
     "text": [
      "Training Epoch 3: 100%|██████████| 128/128 [16:39<00:00,  7.81s/it]\n"
     ]
    },
    {
     "name": "stdout",
     "output_type": "stream",
     "text": [
      "Training Loss: 0.4703148247208446\n"
     ]
    },
    {
     "name": "stderr",
     "output_type": "stream",
     "text": [
      "Validation Epoch 3: 100%|██████████| 32/32 [00:20<00:00,  1.55it/s]\n"
     ]
    },
    {
     "name": "stdout",
     "output_type": "stream",
     "text": [
      "Validation Loss: 0.4749352252110839\n",
      "****************************************************************\n",
      "Epoch 4: Current Learning Rate = 0.001\n"
     ]
    },
    {
     "name": "stderr",
     "output_type": "stream",
     "text": [
      "Training Epoch 4: 100%|██████████| 128/128 [16:54<00:00,  7.92s/it]\n"
     ]
    },
    {
     "name": "stdout",
     "output_type": "stream",
     "text": [
      "Training Loss: 0.4671533736400306\n"
     ]
    },
    {
     "name": "stderr",
     "output_type": "stream",
     "text": [
      "Validation Epoch 4: 100%|██████████| 32/32 [00:21<00:00,  1.51it/s]\n"
     ]
    },
    {
     "name": "stdout",
     "output_type": "stream",
     "text": [
      "Validation Loss: 0.47290483489632607\n",
      "****************************************************************\n",
      "Epoch 5: Current Learning Rate = 0.001\n"
     ]
    },
    {
     "name": "stderr",
     "output_type": "stream",
     "text": [
      "Training Epoch 5: 100%|██████████| 128/128 [16:36<00:00,  7.79s/it]\n"
     ]
    },
    {
     "name": "stdout",
     "output_type": "stream",
     "text": [
      "Training Loss: 0.46590174664743245\n"
     ]
    },
    {
     "name": "stderr",
     "output_type": "stream",
     "text": [
      "Validation Epoch 5: 100%|██████████| 32/32 [00:18<00:00,  1.73it/s]\n"
     ]
    },
    {
     "name": "stdout",
     "output_type": "stream",
     "text": [
      "Validation Loss: 0.4689695565029979\n",
      "****************************************************************\n",
      "Epoch 6: Current Learning Rate = 0.001\n"
     ]
    },
    {
     "name": "stderr",
     "output_type": "stream",
     "text": [
      "Training Epoch 6: 100%|██████████| 128/128 [16:46<00:00,  7.86s/it]\n"
     ]
    },
    {
     "name": "stdout",
     "output_type": "stream",
     "text": [
      "Training Loss: 0.4651123418007046\n"
     ]
    },
    {
     "name": "stderr",
     "output_type": "stream",
     "text": [
      "Validation Epoch 6: 100%|██████████| 32/32 [00:19<00:00,  1.66it/s]\n"
     ]
    },
    {
     "name": "stdout",
     "output_type": "stream",
     "text": [
      "Validation Loss: 0.4664277629926801\n",
      "****************************************************************\n",
      "Epoch 7: Current Learning Rate = 0.001\n"
     ]
    },
    {
     "name": "stderr",
     "output_type": "stream",
     "text": [
      "Training Epoch 7: 100%|██████████| 128/128 [16:53<00:00,  7.91s/it]\n"
     ]
    },
    {
     "name": "stdout",
     "output_type": "stream",
     "text": [
      "Training Loss: 0.46291367686353624\n"
     ]
    },
    {
     "name": "stderr",
     "output_type": "stream",
     "text": [
      "Validation Epoch 7: 100%|██████████| 32/32 [00:17<00:00,  1.83it/s]\n"
     ]
    },
    {
     "name": "stdout",
     "output_type": "stream",
     "text": [
      "Validation Loss: 0.46567549649626017\n",
      "****************************************************************\n",
      "Epoch 8: Current Learning Rate = 0.001\n"
     ]
    },
    {
     "name": "stderr",
     "output_type": "stream",
     "text": [
      "Training Epoch 8: 100%|██████████| 128/128 [15:56<00:00,  7.47s/it]\n"
     ]
    },
    {
     "name": "stdout",
     "output_type": "stream",
     "text": [
      "Training Loss: 0.46082493383437395\n"
     ]
    },
    {
     "name": "stderr",
     "output_type": "stream",
     "text": [
      "Validation Epoch 8: 100%|██████████| 32/32 [00:20<00:00,  1.59it/s]\n"
     ]
    },
    {
     "name": "stdout",
     "output_type": "stream",
     "text": [
      "Validation Loss: 0.4653573641553521\n",
      "****************************************************************\n",
      "Epoch 9: Current Learning Rate = 0.001\n"
     ]
    },
    {
     "name": "stderr",
     "output_type": "stream",
     "text": [
      "Training Epoch 9: 100%|██████████| 128/128 [15:59<00:00,  7.50s/it]\n"
     ]
    },
    {
     "name": "stdout",
     "output_type": "stream",
     "text": [
      "Training Loss: 0.4608900980092585\n"
     ]
    },
    {
     "name": "stderr",
     "output_type": "stream",
     "text": [
      "Validation Epoch 9: 100%|██████████| 32/32 [00:20<00:00,  1.56it/s]\n"
     ]
    },
    {
     "name": "stdout",
     "output_type": "stream",
     "text": [
      "Validation Loss: 0.4653782891109586\n",
      "****************************************************************\n",
      "Epoch 10: Current Learning Rate = 0.001\n"
     ]
    },
    {
     "name": "stderr",
     "output_type": "stream",
     "text": [
      "Training Epoch 10: 100%|██████████| 128/128 [15:05<00:00,  7.07s/it]\n"
     ]
    },
    {
     "name": "stdout",
     "output_type": "stream",
     "text": [
      "Training Loss: 0.4598125843331218\n"
     ]
    },
    {
     "name": "stderr",
     "output_type": "stream",
     "text": [
      "Validation Epoch 10: 100%|██████████| 32/32 [00:23<00:00,  1.39it/s]\n"
     ]
    },
    {
     "name": "stdout",
     "output_type": "stream",
     "text": [
      "Validation Loss: 0.4647561376914382\n",
      "****************************************************************\n",
      "Epoch 11: Current Learning Rate = 0.001\n"
     ]
    },
    {
     "name": "stderr",
     "output_type": "stream",
     "text": [
      "Training Epoch 11: 100%|██████████| 128/128 [15:25<00:00,  7.23s/it]\n"
     ]
    },
    {
     "name": "stdout",
     "output_type": "stream",
     "text": [
      "Training Loss: 0.45945272385142744\n"
     ]
    },
    {
     "name": "stderr",
     "output_type": "stream",
     "text": [
      "Validation Epoch 11: 100%|██████████| 32/32 [00:17<00:00,  1.81it/s]\n"
     ]
    },
    {
     "name": "stdout",
     "output_type": "stream",
     "text": [
      "Validation Loss: 0.4624777929857373\n",
      "****************************************************************\n",
      "Epoch 12: Current Learning Rate = 0.001\n"
     ]
    },
    {
     "name": "stderr",
     "output_type": "stream",
     "text": [
      "Training Epoch 12: 100%|██████████| 128/128 [15:47<00:00,  7.40s/it]\n"
     ]
    },
    {
     "name": "stdout",
     "output_type": "stream",
     "text": [
      "Training Loss: 0.4582955630030483\n"
     ]
    },
    {
     "name": "stderr",
     "output_type": "stream",
     "text": [
      "Validation Epoch 12: 100%|██████████| 32/32 [00:21<00:00,  1.50it/s]\n"
     ]
    },
    {
     "name": "stdout",
     "output_type": "stream",
     "text": [
      "Validation Loss: 0.4625019049271941\n",
      "****************************************************************\n",
      "Epoch 13: Current Learning Rate = 0.001\n"
     ]
    },
    {
     "name": "stderr",
     "output_type": "stream",
     "text": [
      "Training Epoch 13: 100%|██████████| 128/128 [15:14<00:00,  7.14s/it]\n"
     ]
    },
    {
     "name": "stdout",
     "output_type": "stream",
     "text": [
      "Training Loss: 0.45897928765043616\n"
     ]
    },
    {
     "name": "stderr",
     "output_type": "stream",
     "text": [
      "Validation Epoch 13: 100%|██████████| 32/32 [00:22<00:00,  1.45it/s]\n"
     ]
    },
    {
     "name": "stdout",
     "output_type": "stream",
     "text": [
      "Validation Loss: 0.46572608314454556\n",
      "****************************************************************\n",
      "Epoch 14: Current Learning Rate = 0.001\n"
     ]
    },
    {
     "name": "stderr",
     "output_type": "stream",
     "text": [
      "Training Epoch 14: 100%|██████████| 128/128 [15:42<00:00,  7.36s/it]\n"
     ]
    },
    {
     "name": "stdout",
     "output_type": "stream",
     "text": [
      "Training Loss: 0.45878072921186686\n"
     ]
    },
    {
     "name": "stderr",
     "output_type": "stream",
     "text": [
      "Validation Epoch 14: 100%|██████████| 32/32 [00:21<00:00,  1.51it/s]\n"
     ]
    },
    {
     "name": "stdout",
     "output_type": "stream",
     "text": [
      "Validation Loss: 0.4620857769623399\n",
      "****************************************************************\n",
      "Epoch 15: Current Learning Rate = 0.001\n"
     ]
    },
    {
     "name": "stderr",
     "output_type": "stream",
     "text": [
      "Training Epoch 15: 100%|██████████| 128/128 [15:25<00:00,  7.23s/it]\n"
     ]
    },
    {
     "name": "stdout",
     "output_type": "stream",
     "text": [
      "Training Loss: 0.457104149274528\n"
     ]
    },
    {
     "name": "stderr",
     "output_type": "stream",
     "text": [
      "Validation Epoch 15: 100%|██████████| 32/32 [00:21<00:00,  1.50it/s]\n"
     ]
    },
    {
     "name": "stdout",
     "output_type": "stream",
     "text": [
      "Validation Loss: 0.46075929142534733\n",
      "****************************************************************\n",
      "Epoch 16: Current Learning Rate = 0.001\n"
     ]
    },
    {
     "name": "stderr",
     "output_type": "stream",
     "text": [
      "Training Epoch 16: 100%|██████████| 128/128 [15:16<00:00,  7.16s/it]\n"
     ]
    },
    {
     "name": "stdout",
     "output_type": "stream",
     "text": [
      "Training Loss: 0.45630170684307814\n"
     ]
    },
    {
     "name": "stderr",
     "output_type": "stream",
     "text": [
      "Validation Epoch 16: 100%|██████████| 32/32 [00:17<00:00,  1.83it/s]\n"
     ]
    },
    {
     "name": "stdout",
     "output_type": "stream",
     "text": [
      "Validation Loss: 0.4695920357480645\n",
      "****************************************************************\n",
      "Epoch 17: Current Learning Rate = 0.001\n"
     ]
    },
    {
     "name": "stderr",
     "output_type": "stream",
     "text": [
      "Training Epoch 17: 100%|██████████| 128/128 [15:45<00:00,  7.39s/it]\n"
     ]
    },
    {
     "name": "stdout",
     "output_type": "stream",
     "text": [
      "Training Loss: 0.4566013771109283\n"
     ]
    },
    {
     "name": "stderr",
     "output_type": "stream",
     "text": [
      "Validation Epoch 17: 100%|██████████| 32/32 [00:17<00:00,  1.83it/s]\n"
     ]
    },
    {
     "name": "stdout",
     "output_type": "stream",
     "text": [
      "Validation Loss: 0.4603815143927932\n",
      "****************************************************************\n",
      "Epoch 18: Current Learning Rate = 0.001\n"
     ]
    },
    {
     "name": "stderr",
     "output_type": "stream",
     "text": [
      "Training Epoch 18: 100%|██████████| 128/128 [15:37<00:00,  7.33s/it]\n"
     ]
    },
    {
     "name": "stdout",
     "output_type": "stream",
     "text": [
      "Training Loss: 0.4561762085650116\n"
     ]
    },
    {
     "name": "stderr",
     "output_type": "stream",
     "text": [
      "Validation Epoch 18: 100%|██████████| 32/32 [00:17<00:00,  1.79it/s]\n"
     ]
    },
    {
     "name": "stdout",
     "output_type": "stream",
     "text": [
      "Validation Loss: 0.46024492383003235\n",
      "****************************************************************\n",
      "Epoch 19: Current Learning Rate = 0.001\n"
     ]
    },
    {
     "name": "stderr",
     "output_type": "stream",
     "text": [
      "Training Epoch 19: 100%|██████████| 128/128 [15:34<00:00,  7.30s/it]\n"
     ]
    },
    {
     "name": "stdout",
     "output_type": "stream",
     "text": [
      "Training Loss: 0.4561385549604893\n"
     ]
    },
    {
     "name": "stderr",
     "output_type": "stream",
     "text": [
      "Validation Epoch 19: 100%|██████████| 32/32 [00:17<00:00,  1.84it/s]\n"
     ]
    },
    {
     "name": "stdout",
     "output_type": "stream",
     "text": [
      "Validation Loss: 0.4610066991299391\n",
      "****************************************************************\n",
      "Epoch 20: Current Learning Rate = 0.001\n"
     ]
    },
    {
     "name": "stderr",
     "output_type": "stream",
     "text": [
      "Training Epoch 20: 100%|██████████| 128/128 [15:02<00:00,  7.05s/it]\n"
     ]
    },
    {
     "name": "stdout",
     "output_type": "stream",
     "text": [
      "Training Loss: 0.4555721136275679\n"
     ]
    },
    {
     "name": "stderr",
     "output_type": "stream",
     "text": [
      "Validation Epoch 20: 100%|██████████| 32/32 [00:24<00:00,  1.32it/s]\n"
     ]
    },
    {
     "name": "stdout",
     "output_type": "stream",
     "text": [
      "Validation Loss: 0.4596953419968486\n",
      "****************************************************************\n",
      "Epoch 21: Current Learning Rate = 0.001\n"
     ]
    },
    {
     "name": "stderr",
     "output_type": "stream",
     "text": [
      "Training Epoch 21: 100%|██████████| 128/128 [15:14<00:00,  7.15s/it]\n"
     ]
    },
    {
     "name": "stdout",
     "output_type": "stream",
     "text": [
      "Training Loss: 0.4556091877166182\n"
     ]
    },
    {
     "name": "stderr",
     "output_type": "stream",
     "text": [
      "Validation Epoch 21: 100%|██████████| 32/32 [00:17<00:00,  1.83it/s]\n"
     ]
    },
    {
     "name": "stdout",
     "output_type": "stream",
     "text": [
      "Validation Loss: 0.46003036201000214\n",
      "****************************************************************\n",
      "Epoch 22: Current Learning Rate = 0.001\n"
     ]
    },
    {
     "name": "stderr",
     "output_type": "stream",
     "text": [
      "Training Epoch 22: 100%|██████████| 128/128 [15:01<00:00,  7.04s/it]\n"
     ]
    },
    {
     "name": "stdout",
     "output_type": "stream",
     "text": [
      "Training Loss: 0.45595094561576843\n"
     ]
    },
    {
     "name": "stderr",
     "output_type": "stream",
     "text": [
      "Validation Epoch 22: 100%|██████████| 32/32 [00:17<00:00,  1.79it/s]\n"
     ]
    },
    {
     "name": "stdout",
     "output_type": "stream",
     "text": [
      "Validation Loss: 0.45922022592276335\n",
      "****************************************************************\n",
      "Epoch 23: Current Learning Rate = 0.001\n"
     ]
    },
    {
     "name": "stderr",
     "output_type": "stream",
     "text": [
      "Training Epoch 23: 100%|██████████| 128/128 [15:10<00:00,  7.12s/it]\n"
     ]
    },
    {
     "name": "stdout",
     "output_type": "stream",
     "text": [
      "Training Loss: 0.4548170168418437\n"
     ]
    },
    {
     "name": "stderr",
     "output_type": "stream",
     "text": [
      "Validation Epoch 23: 100%|██████████| 32/32 [00:19<00:00,  1.60it/s]\n"
     ]
    },
    {
     "name": "stdout",
     "output_type": "stream",
     "text": [
      "Validation Loss: 0.46188671607524157\n",
      "****************************************************************\n",
      "Epoch 24: Current Learning Rate = 0.001\n"
     ]
    },
    {
     "name": "stderr",
     "output_type": "stream",
     "text": [
      "Training Epoch 24: 100%|██████████| 128/128 [14:54<00:00,  6.99s/it]\n"
     ]
    },
    {
     "name": "stdout",
     "output_type": "stream",
     "text": [
      "Training Loss: 0.45452944771386683\n"
     ]
    },
    {
     "name": "stderr",
     "output_type": "stream",
     "text": [
      "Validation Epoch 24: 100%|██████████| 32/32 [00:20<00:00,  1.59it/s]\n"
     ]
    },
    {
     "name": "stdout",
     "output_type": "stream",
     "text": [
      "Validation Loss: 0.45804709754884243\n",
      "****************************************************************\n",
      "Epoch 25: Current Learning Rate = 0.001\n"
     ]
    },
    {
     "name": "stderr",
     "output_type": "stream",
     "text": [
      "Training Epoch 25: 100%|██████████| 128/128 [15:11<00:00,  7.12s/it]\n"
     ]
    },
    {
     "name": "stdout",
     "output_type": "stream",
     "text": [
      "Training Loss: 0.4541211349423975\n"
     ]
    },
    {
     "name": "stderr",
     "output_type": "stream",
     "text": [
      "Validation Epoch 25: 100%|██████████| 32/32 [00:21<00:00,  1.52it/s]\n"
     ]
    },
    {
     "name": "stdout",
     "output_type": "stream",
     "text": [
      "Validation Loss: 0.4588285544887185\n",
      "****************************************************************\n",
      "Epoch 26: Current Learning Rate = 0.001\n"
     ]
    },
    {
     "name": "stderr",
     "output_type": "stream",
     "text": [
      "Training Epoch 26: 100%|██████████| 128/128 [15:34<00:00,  7.30s/it]\n"
     ]
    },
    {
     "name": "stdout",
     "output_type": "stream",
     "text": [
      "Training Loss: 0.45441422145813704\n"
     ]
    },
    {
     "name": "stderr",
     "output_type": "stream",
     "text": [
      "Validation Epoch 26: 100%|██████████| 32/32 [00:19<00:00,  1.61it/s]\n"
     ]
    },
    {
     "name": "stdout",
     "output_type": "stream",
     "text": [
      "Validation Loss: 0.4620884880423546\n",
      "****************************************************************\n",
      "Epoch 27: Current Learning Rate = 0.001\n"
     ]
    },
    {
     "name": "stderr",
     "output_type": "stream",
     "text": [
      "Training Epoch 27: 100%|██████████| 128/128 [15:19<00:00,  7.18s/it]\n"
     ]
    },
    {
     "name": "stdout",
     "output_type": "stream",
     "text": [
      "Training Loss: 0.454065267695114\n"
     ]
    },
    {
     "name": "stderr",
     "output_type": "stream",
     "text": [
      "Validation Epoch 27: 100%|██████████| 32/32 [00:18<00:00,  1.75it/s]\n"
     ]
    },
    {
     "name": "stdout",
     "output_type": "stream",
     "text": [
      "Validation Loss: 0.4586916118860245\n",
      "Reducing learning rate to 0.0005\n",
      "****************************************************************\n",
      "Epoch 28: Current Learning Rate = 0.0005\n"
     ]
    },
    {
     "name": "stderr",
     "output_type": "stream",
     "text": [
      "Training Epoch 28: 100%|██████████| 128/128 [14:31<00:00,  6.81s/it]\n"
     ]
    },
    {
     "name": "stdout",
     "output_type": "stream",
     "text": [
      "Training Loss: 0.452706002863124\n"
     ]
    },
    {
     "name": "stderr",
     "output_type": "stream",
     "text": [
      "Validation Epoch 28: 100%|██████████| 32/32 [00:16<00:00,  1.88it/s]\n"
     ]
    },
    {
     "name": "stdout",
     "output_type": "stream",
     "text": [
      "Validation Loss: 0.4567206734791398\n",
      "****************************************************************\n",
      "Epoch 29: Current Learning Rate = 0.0005\n"
     ]
    },
    {
     "name": "stderr",
     "output_type": "stream",
     "text": [
      "Training Epoch 29: 100%|██████████| 128/128 [13:55<00:00,  6.53s/it]\n"
     ]
    },
    {
     "name": "stdout",
     "output_type": "stream",
     "text": [
      "Training Loss: 0.4519087434746325\n"
     ]
    },
    {
     "name": "stderr",
     "output_type": "stream",
     "text": [
      "Validation Epoch 29: 100%|██████████| 32/32 [00:16<00:00,  1.89it/s]\n"
     ]
    },
    {
     "name": "stdout",
     "output_type": "stream",
     "text": [
      "Validation Loss: 0.4565069954842329\n",
      "****************************************************************\n",
      "Epoch 30: Current Learning Rate = 0.0005\n"
     ]
    },
    {
     "name": "stderr",
     "output_type": "stream",
     "text": [
      "Training Epoch 30: 100%|██████████| 128/128 [13:42<00:00,  6.43s/it]\n"
     ]
    },
    {
     "name": "stdout",
     "output_type": "stream",
     "text": [
      "Training Loss: 0.4517670995555818\n"
     ]
    },
    {
     "name": "stderr",
     "output_type": "stream",
     "text": [
      "Validation Epoch 30: 100%|██████████| 32/32 [00:16<00:00,  1.93it/s]\n"
     ]
    },
    {
     "name": "stdout",
     "output_type": "stream",
     "text": [
      "Validation Loss: 0.45660360623151064\n",
      "****************************************************************\n",
      "Epoch 31: Current Learning Rate = 0.0005\n"
     ]
    },
    {
     "name": "stderr",
     "output_type": "stream",
     "text": [
      "Training Epoch 31: 100%|██████████| 128/128 [15:16<00:00,  7.16s/it]\n"
     ]
    },
    {
     "name": "stdout",
     "output_type": "stream",
     "text": [
      "Training Loss: 0.45192450750619173\n"
     ]
    },
    {
     "name": "stderr",
     "output_type": "stream",
     "text": [
      "Validation Epoch 31: 100%|██████████| 32/32 [00:19<00:00,  1.61it/s]\n"
     ]
    },
    {
     "name": "stdout",
     "output_type": "stream",
     "text": [
      "Validation Loss: 0.4571400582790375\n",
      "****************************************************************\n",
      "Epoch 32: Current Learning Rate = 0.0005\n"
     ]
    },
    {
     "name": "stderr",
     "output_type": "stream",
     "text": [
      "Training Epoch 32: 100%|██████████| 128/128 [14:48<00:00,  6.94s/it]\n"
     ]
    },
    {
     "name": "stdout",
     "output_type": "stream",
     "text": [
      "Training Loss: 0.451221082592383\n"
     ]
    },
    {
     "name": "stderr",
     "output_type": "stream",
     "text": [
      "Validation Epoch 32: 100%|██████████| 32/32 [00:17<00:00,  1.85it/s]\n"
     ]
    },
    {
     "name": "stdout",
     "output_type": "stream",
     "text": [
      "Validation Loss: 0.4563390389084816\n",
      "****************************************************************\n",
      "Epoch 33: Current Learning Rate = 0.0005\n"
     ]
    },
    {
     "name": "stderr",
     "output_type": "stream",
     "text": [
      "Training Epoch 33: 100%|██████████| 128/128 [15:02<00:00,  7.05s/it]\n"
     ]
    },
    {
     "name": "stdout",
     "output_type": "stream",
     "text": [
      "Training Loss: 0.4509796481579542\n"
     ]
    },
    {
     "name": "stderr",
     "output_type": "stream",
     "text": [
      "Validation Epoch 33: 100%|██████████| 32/32 [00:16<00:00,  1.91it/s]\n"
     ]
    },
    {
     "name": "stdout",
     "output_type": "stream",
     "text": [
      "Validation Loss: 0.4566066041588783\n",
      "****************************************************************\n",
      "Epoch 34: Current Learning Rate = 0.0005\n"
     ]
    },
    {
     "name": "stderr",
     "output_type": "stream",
     "text": [
      "Training Epoch 34: 100%|██████████| 128/128 [15:16<00:00,  7.16s/it]\n"
     ]
    },
    {
     "name": "stdout",
     "output_type": "stream",
     "text": [
      "Training Loss: 0.45120535511523485\n"
     ]
    },
    {
     "name": "stderr",
     "output_type": "stream",
     "text": [
      "Validation Epoch 34: 100%|██████████| 32/32 [00:16<00:00,  1.90it/s]\n"
     ]
    },
    {
     "name": "stdout",
     "output_type": "stream",
     "text": [
      "Validation Loss: 0.45652581844478846\n",
      "****************************************************************\n",
      "Epoch 35: Current Learning Rate = 0.0005\n"
     ]
    },
    {
     "name": "stderr",
     "output_type": "stream",
     "text": [
      "Training Epoch 35: 100%|██████████| 128/128 [14:10<00:00,  6.64s/it]\n"
     ]
    },
    {
     "name": "stdout",
     "output_type": "stream",
     "text": [
      "Training Loss: 0.4507816357072443\n"
     ]
    },
    {
     "name": "stderr",
     "output_type": "stream",
     "text": [
      "Validation Epoch 35: 100%|██████████| 32/32 [00:16<00:00,  1.94it/s]\n"
     ]
    },
    {
     "name": "stdout",
     "output_type": "stream",
     "text": [
      "Validation Loss: 0.45699297077953815\n",
      "Reducing learning rate to 0.00025\n",
      "****************************************************************\n",
      "Epoch 36: Current Learning Rate = 0.00025\n"
     ]
    },
    {
     "name": "stderr",
     "output_type": "stream",
     "text": [
      "Training Epoch 36: 100%|██████████| 128/128 [13:32<00:00,  6.35s/it]\n"
     ]
    },
    {
     "name": "stdout",
     "output_type": "stream",
     "text": [
      "Training Loss: 0.449894756777212\n"
     ]
    },
    {
     "name": "stderr",
     "output_type": "stream",
     "text": [
      "Validation Epoch 36: 100%|██████████| 32/32 [00:19<00:00,  1.67it/s]\n"
     ]
    },
    {
     "name": "stdout",
     "output_type": "stream",
     "text": [
      "Validation Loss: 0.4558698469772935\n",
      "****************************************************************\n",
      "Epoch 37: Current Learning Rate = 0.00025\n"
     ]
    },
    {
     "name": "stderr",
     "output_type": "stream",
     "text": [
      "Training Epoch 37: 100%|██████████| 128/128 [12:23<00:00,  5.81s/it]\n"
     ]
    },
    {
     "name": "stdout",
     "output_type": "stream",
     "text": [
      "Training Loss: 0.44951402209699154\n"
     ]
    },
    {
     "name": "stderr",
     "output_type": "stream",
     "text": [
      "Validation Epoch 37: 100%|██████████| 32/32 [00:16<00:00,  1.99it/s]\n"
     ]
    },
    {
     "name": "stdout",
     "output_type": "stream",
     "text": [
      "Validation Loss: 0.4561358140781522\n",
      "****************************************************************\n",
      "Epoch 38: Current Learning Rate = 0.00025\n"
     ]
    },
    {
     "name": "stderr",
     "output_type": "stream",
     "text": [
      "Training Epoch 38: 100%|██████████| 128/128 [14:50<00:00,  6.96s/it]\n"
     ]
    },
    {
     "name": "stdout",
     "output_type": "stream",
     "text": [
      "Training Loss: 0.44964592927135527\n"
     ]
    },
    {
     "name": "stderr",
     "output_type": "stream",
     "text": [
      "Validation Epoch 38: 100%|██████████| 32/32 [00:17<00:00,  1.85it/s]\n"
     ]
    },
    {
     "name": "stdout",
     "output_type": "stream",
     "text": [
      "Validation Loss: 0.45570353139191866\n",
      "****************************************************************\n",
      "Epoch 39: Current Learning Rate = 0.00025\n"
     ]
    },
    {
     "name": "stderr",
     "output_type": "stream",
     "text": [
      "Training Epoch 39: 100%|██████████| 128/128 [14:31<00:00,  6.81s/it]\n"
     ]
    },
    {
     "name": "stdout",
     "output_type": "stream",
     "text": [
      "Training Loss: 0.44985460746102035\n"
     ]
    },
    {
     "name": "stderr",
     "output_type": "stream",
     "text": [
      "Validation Epoch 39: 100%|██████████| 32/32 [00:19<00:00,  1.67it/s]\n"
     ]
    },
    {
     "name": "stdout",
     "output_type": "stream",
     "text": [
      "Validation Loss: 0.45675615407526493\n",
      "****************************************************************\n",
      "Epoch 40: Current Learning Rate = 0.00025\n"
     ]
    },
    {
     "name": "stderr",
     "output_type": "stream",
     "text": [
      "Training Epoch 40: 100%|██████████| 128/128 [14:12<00:00,  6.66s/it]\n"
     ]
    },
    {
     "name": "stdout",
     "output_type": "stream",
     "text": [
      "Training Loss: 0.44919618498533964\n"
     ]
    },
    {
     "name": "stderr",
     "output_type": "stream",
     "text": [
      "Validation Epoch 40: 100%|██████████| 32/32 [00:19<00:00,  1.67it/s]\n"
     ]
    },
    {
     "name": "stdout",
     "output_type": "stream",
     "text": [
      "Validation Loss: 0.45562561228871346\n",
      "****************************************************************\n",
      "Epoch 41: Current Learning Rate = 0.00025\n"
     ]
    },
    {
     "name": "stderr",
     "output_type": "stream",
     "text": [
      "Training Epoch 41: 100%|██████████| 128/128 [14:23<00:00,  6.74s/it]\n"
     ]
    },
    {
     "name": "stdout",
     "output_type": "stream",
     "text": [
      "Training Loss: 0.4490484860725701\n"
     ]
    },
    {
     "name": "stderr",
     "output_type": "stream",
     "text": [
      "Validation Epoch 41: 100%|██████████| 32/32 [00:19<00:00,  1.65it/s]\n"
     ]
    },
    {
     "name": "stdout",
     "output_type": "stream",
     "text": [
      "Validation Loss: 0.4553001280874014\n",
      "****************************************************************\n",
      "Epoch 42: Current Learning Rate = 0.00025\n"
     ]
    },
    {
     "name": "stderr",
     "output_type": "stream",
     "text": [
      "Training Epoch 42: 100%|██████████| 128/128 [14:07<00:00,  6.62s/it]\n"
     ]
    },
    {
     "name": "stdout",
     "output_type": "stream",
     "text": [
      "Training Loss: 0.44903434952721\n"
     ]
    },
    {
     "name": "stderr",
     "output_type": "stream",
     "text": [
      "Validation Epoch 42: 100%|██████████| 32/32 [00:20<00:00,  1.60it/s]\n"
     ]
    },
    {
     "name": "stdout",
     "output_type": "stream",
     "text": [
      "Validation Loss: 0.45984892547130585\n",
      "****************************************************************\n",
      "Epoch 43: Current Learning Rate = 0.00025\n"
     ]
    },
    {
     "name": "stderr",
     "output_type": "stream",
     "text": [
      "Training Epoch 43: 100%|██████████| 128/128 [13:43<00:00,  6.43s/it]\n"
     ]
    },
    {
     "name": "stdout",
     "output_type": "stream",
     "text": [
      "Training Loss: 0.4488234056625515\n"
     ]
    },
    {
     "name": "stderr",
     "output_type": "stream",
     "text": [
      "Validation Epoch 43: 100%|██████████| 32/32 [00:17<00:00,  1.88it/s]\n"
     ]
    },
    {
     "name": "stdout",
     "output_type": "stream",
     "text": [
      "Validation Loss: 0.45740522630512714\n",
      "****************************************************************\n",
      "Epoch 44: Current Learning Rate = 0.00025\n"
     ]
    },
    {
     "name": "stderr",
     "output_type": "stream",
     "text": [
      "Training Epoch 44: 100%|██████████| 128/128 [13:53<00:00,  6.51s/it]\n"
     ]
    },
    {
     "name": "stdout",
     "output_type": "stream",
     "text": [
      "Training Loss: 0.4492842396721244\n"
     ]
    },
    {
     "name": "stderr",
     "output_type": "stream",
     "text": [
      "Validation Epoch 44: 100%|██████████| 32/32 [00:16<00:00,  1.93it/s]\n"
     ]
    },
    {
     "name": "stdout",
     "output_type": "stream",
     "text": [
      "Validation Loss: 0.4588851211592555\n",
      "Reducing learning rate to 0.000125\n",
      "****************************************************************\n",
      "Epoch 45: Current Learning Rate = 0.000125\n"
     ]
    },
    {
     "name": "stderr",
     "output_type": "stream",
     "text": [
      "Training Epoch 45: 100%|██████████| 128/128 [13:42<00:00,  6.43s/it]\n"
     ]
    },
    {
     "name": "stdout",
     "output_type": "stream",
     "text": [
      "Training Loss: 0.44781098212115467\n"
     ]
    },
    {
     "name": "stderr",
     "output_type": "stream",
     "text": [
      "Validation Epoch 45: 100%|██████████| 32/32 [00:19<00:00,  1.62it/s]\n"
     ]
    },
    {
     "name": "stdout",
     "output_type": "stream",
     "text": [
      "Validation Loss: 0.4567209994420409\n",
      "****************************************************************\n",
      "Epoch 46: Current Learning Rate = 0.000125\n"
     ]
    },
    {
     "name": "stderr",
     "output_type": "stream",
     "text": [
      "Training Epoch 46: 100%|██████████| 128/128 [14:06<00:00,  6.61s/it]\n"
     ]
    },
    {
     "name": "stdout",
     "output_type": "stream",
     "text": [
      "Training Loss: 0.44743460323661566\n"
     ]
    },
    {
     "name": "stderr",
     "output_type": "stream",
     "text": [
      "Validation Epoch 46: 100%|██████████| 32/32 [00:16<00:00,  1.93it/s]\n"
     ]
    },
    {
     "name": "stdout",
     "output_type": "stream",
     "text": [
      "Validation Loss: 0.45740258134901524\n",
      "****************************************************************\n",
      "Epoch 47: Current Learning Rate = 0.000125\n"
     ]
    },
    {
     "name": "stderr",
     "output_type": "stream",
     "text": [
      "Training Epoch 47: 100%|██████████| 128/128 [13:54<00:00,  6.52s/it]\n"
     ]
    },
    {
     "name": "stdout",
     "output_type": "stream",
     "text": [
      "Training Loss: 0.4473267775028944\n"
     ]
    },
    {
     "name": "stderr",
     "output_type": "stream",
     "text": [
      "Validation Epoch 47: 100%|██████████| 32/32 [00:19<00:00,  1.66it/s]\n"
     ]
    },
    {
     "name": "stdout",
     "output_type": "stream",
     "text": [
      "Validation Loss: 0.45763152465224266\n",
      "Reducing learning rate to 6.25e-05\n",
      "****************************************************************\n",
      "Epoch 48: Current Learning Rate = 6.25e-05\n"
     ]
    },
    {
     "name": "stderr",
     "output_type": "stream",
     "text": [
      "Training Epoch 48: 100%|██████████| 128/128 [14:17<00:00,  6.70s/it]\n"
     ]
    },
    {
     "name": "stdout",
     "output_type": "stream",
     "text": [
      "Training Loss: 0.4466053412761539\n"
     ]
    },
    {
     "name": "stderr",
     "output_type": "stream",
     "text": [
      "Validation Epoch 48: 100%|██████████| 32/32 [00:19<00:00,  1.67it/s]\n"
     ]
    },
    {
     "name": "stdout",
     "output_type": "stream",
     "text": [
      "Validation Loss: 0.45499719493091106\n",
      "****************************************************************\n",
      "Epoch 49: Current Learning Rate = 6.25e-05\n"
     ]
    },
    {
     "name": "stderr",
     "output_type": "stream",
     "text": [
      "Training Epoch 49: 100%|██████████| 128/128 [13:53<00:00,  6.51s/it]\n"
     ]
    },
    {
     "name": "stdout",
     "output_type": "stream",
     "text": [
      "Training Loss: 0.44664396555162966\n"
     ]
    },
    {
     "name": "stderr",
     "output_type": "stream",
     "text": [
      "Validation Epoch 49: 100%|██████████| 32/32 [00:17<00:00,  1.87it/s]\n"
     ]
    },
    {
     "name": "stdout",
     "output_type": "stream",
     "text": [
      "Validation Loss: 0.45561672654002905\n",
      "****************************************************************\n",
      "Data saved to c\n",
      "Index(['Current Epoch', 'Training Loss', 'Validation Loss'], dtype='object')\n"
     ]
    },
    {
     "data": {
      "image/png": "[encoded data removed]",
      "text/plain": [
       "<Figure size 720x432 with 1 Axes>"
      ]
     },
     "metadata": {
      "needs_background": "light"
     },
     "output_type": "display_data"
    }
   ],
   "source": [
    "# Maximum number of retries\n",
    "max_retries = 5\n",
    "retry_count = 0\n",
    "\n",
    "# Retry logic\n",
    "while retry_count < max_retries:\n",
    "    try:\n",
    "        mxTn = myTrain(train_loader, val_loader)\n",
    "        loss_each_epoch, model_list, epoch = mxTn.train(ctx, epochs = 50)\n",
    "        saveAsCSV([\"Current Epoch\", \"Training Loss\", \"Validation Loss\"], lossFile, loss_each_epoch)\n",
    "        SaveModels(output_models, model_list)\n",
    "        lossPlot(loss_each_epoch, output_directory)\n",
    "        break\n",
    "    except MXNetError  as e:\n",
    "        if 'CUDNN_STATUS_EXECUTION_FAILED' in str(e):\n",
    "            print(f\"cuDNN execution failed. Retrying... ({retry_count + 1}/{max_retries})\")\n",
    "            mx.nd.waitall()  # Clear GPU memory\n",
    "            time.sleep(5) # Wait for a few seconds before retrying\n",
    "            retry_count += 1 # Increment the retry counter\n",
    "        else:\n",
    "            raise  # If it's another error, raise it\n",
    "\n",
    "# Check if maximum retries were reached\n",
    "if retry_count == max_retries:\n",
    "    print(\"Maximum retries reached. Training failed due to cuDNN error.\")"
   ]
  },
  {
   "cell_type": "code",
   "execution_count": 21,
   "metadata": {},
   "outputs": [
    {
     "name": "stdout",
     "output_type": "stream",
     "text": [
      "D:\\Source\\Output\\Result_2022\\VNIR\\648\\result\n"
     ]
    }
   ],
   "source": [
    "print(result_path)"
   ]
  },
  {
   "cell_type": "code",
   "execution_count": 27,
   "metadata": {},
   "outputs": [],
   "source": [
    "def get_model_file_name():\n",
    "    files = os.listdir(output_models)  # Get all files in the folder\n",
    "    if files:\n",
    "        last_file = os.path.join(output_models, f'model_VNIR_{len(files)-1}.params')\n",
    "        print(f\"This model is using: {last_file}\")\n",
    "        return last_file\n",
    "    else:\n",
    "        print(\"The folder is empty.\")\n",
    "\n",
    "def visualize_predictions(result_path, image_dict, val_ids, t_ext , t_bound , is2022 = True):    \n",
    "    print(f\"Starting visualization with t_ext = {t_ext}, t_bound = {t_bound}\")\n",
    "    modelPath = rf\"{get_model_file_name()}\"\n",
    "    netPredict = myModel.MyFractalResUNetcmtsk(True, modelPath, ctx)\n",
    "    ious=[]\n",
    "\n",
    "    for id in val_ids:  # Limit to 'num_images' for visualization\n",
    "        print(f\"Processing image ID: {id}\")\n",
    "        try:\n",
    "            img = images.getImage(id, image_dict, ctx)\n",
    "            \n",
    "            currentMetadata = image_dict[id]\n",
    "            with autograd.predict_mode():  \n",
    "                outputs = netPredict.net(img) \n",
    "                pred_segm  = np.array(outputs[0][0,1,:,:].asnumpy())\n",
    "                pred_bound =  np.array(outputs[1][0,1,:,:].asnumpy())\n",
    "\n",
    "                pred_segm = 1-pred_segm\n",
    "                pred_segm = np.where(pred_segm < 0.6, 0, 1).astype(np.uint8)\n",
    "        \n",
    "                #Apply threshold to pred_segm\n",
    "                #pred_segm_binary = (1-pred_segm).astype(np.float32)\n",
    "                print(\"Shape of pred_segm:\", pred_segm.shape, \"Shape of pred_bound:\", pred_bound.shape, \"Shape of binary_extent_mask:\", pred_segm.shape)\n",
    "                print(\"NaNs in pred_segm:\", np.isnan(pred_segm).sum(), \"NaNs in binary_extent_mask:\", np.isnan(pred_segm).sum())\n",
    "\n",
    "                inst =InstSegm(pred_segm, pred_bound, t_ext=t_ext, t_bound=t_bound)   # perform instance segmentation\n",
    "                print(\"NaNs in inst:\", np.isnan(inst).sum())\n",
    "                inst = np.nan_to_num(inst, nan=0)\n",
    "                \n",
    "                #print(f'inst_Unique_labels: {np.unique(inst)}')\n",
    "                output_shapefile_path = visualize_all(id, img, currentMetadata, outputs, pred_segm, pred_bound, inst, result_path)\n",
    "\n",
    "                print(\"Start IOU calculation\")\n",
    "                csv_file_path = os.path.join(result_path, str(id), \"iou.csv\")\n",
    "                ref_path = const.output_ref_2022    \n",
    "                if not is2022:\n",
    "                    ref_path = const.output_ref_2010\n",
    "\n",
    "                iou_score= get_iou(os.path.join(ref_path, f'tile_{id}.shp'), os.path.join(output_shapefile_path, f'{str(id)}.shp'))\n",
    "\n",
    "                ious.append({ \"ID\": id,\"IOU\": iou_score })\n",
    "                ious.append({\"ID\": f't_ext: {t_ext}',\"IOU\": f't_bound: {t_bound}'}) \n",
    "                saveAsCSV([\"ID\", \"IOU\"], csv_file_path, ious, True)\n",
    "\n",
    "        except Exception as e:\n",
    "            print(f\"Error processing image ID {id}: {e}\")\n",
    "    \n",
    "    \n",
    "\n",
    "def visualize(result_path,image_dict, val_ids,  t_ext , t_bound , is2022 = True):\n",
    "    random_val_ids = random.choice(val_ids) # Choose a random validation ID\n",
    "    visualize_predictions(result_path, image_dict,[random_val_ids],t_ext = t_ext, t_bound = t_bound, is2022 = is2022)\n",
    "    print(\"Visualization completed successfully.\")\n",
    " \n"
   ]
  },
  {
   "cell_type": "markdown",
   "metadata": {},
   "source": [
    "# Applying model in 2022 images"
   ]
  },
  {
   "cell_type": "code",
   "execution_count": 28,
   "metadata": {},
   "outputs": [
    {
     "name": "stdout",
     "output_type": "stream",
     "text": [
      "Starting visualization with t_ext = 0.3, t_bound = 0.09\n",
      "This model is using: D:\\Source\\Output\\Result_2022\\VNIR\\648\\models\\model_VNIR_49.params\n",
      "depth:= 0, nfilters: 32, nheads::8, widths::1\n",
      "depth:= 1, nfilters: 64, nheads::16, widths::1\n",
      "depth:= 2, nfilters: 128, nheads::32, widths::1\n",
      "depth:= 3, nfilters: 256, nheads::64, widths::1\n",
      "depth:= 4, nfilters: 512, nheads::128, widths::1\n",
      "depth:= 5, nfilters: 1024, nheads::256, widths::1\n",
      "depth:= 6, nfilters: 512, nheads::256, widths::1\n",
      "depth:= 7, nfilters: 256, nheads::128, widths::1\n",
      "depth:= 8, nfilters: 128, nheads::64, widths::1\n",
      "depth:= 9, nfilters: 64, nheads::32, widths::1\n",
      "depth:= 10, nfilters: 32, nheads::16, widths::1\n"
     ]
    },
    {
     "ename": "TypeError",
     "evalue": "fname required to be a string",
     "output_type": "error",
     "traceback": [
      "\u001b[1;31m---------------------------------------------------------------------------\u001b[0m",
      "\u001b[1;31mTypeError\u001b[0m                                 Traceback (most recent call last)",
      "\u001b[1;32m<ipython-input-28-4960ec076efe>\u001b[0m in \u001b[0;36m<module>\u001b[1;34m\u001b[0m\n\u001b[1;32m----> 1\u001b[1;33m \u001b[0mvisualize\u001b[0m\u001b[1;33m(\u001b[0m\u001b[0mresult_path\u001b[0m\u001b[1;33m,\u001b[0m\u001b[0mimage_dict\u001b[0m\u001b[1;33m,\u001b[0m \u001b[0mval_ids\u001b[0m\u001b[1;33m,\u001b[0m \u001b[0mt_ext\u001b[0m \u001b[1;33m=\u001b[0m \u001b[1;36m0.3\u001b[0m\u001b[1;33m,\u001b[0m \u001b[0mt_bound\u001b[0m \u001b[1;33m=\u001b[0m \u001b[1;36m0.09\u001b[0m\u001b[1;33m)\u001b[0m\u001b[1;33m\u001b[0m\u001b[1;33m\u001b[0m\u001b[0m\n\u001b[0m",
      "\u001b[1;32m<ipython-input-27-b021663dd4c3>\u001b[0m in \u001b[0;36mvisualize\u001b[1;34m(result_path, image_dict, val_ids, t_ext, t_bound, is2022)\u001b[0m\n\u001b[0;32m     59\u001b[0m \u001b[1;32mdef\u001b[0m \u001b[0mvisualize\u001b[0m\u001b[1;33m(\u001b[0m\u001b[0mresult_path\u001b[0m\u001b[1;33m,\u001b[0m\u001b[0mimage_dict\u001b[0m\u001b[1;33m,\u001b[0m \u001b[0mval_ids\u001b[0m\u001b[1;33m,\u001b[0m  \u001b[0mt_ext\u001b[0m \u001b[1;33m,\u001b[0m \u001b[0mt_bound\u001b[0m \u001b[1;33m,\u001b[0m \u001b[0mis2022\u001b[0m \u001b[1;33m=\u001b[0m \u001b[1;32mTrue\u001b[0m\u001b[1;33m)\u001b[0m\u001b[1;33m:\u001b[0m\u001b[1;33m\u001b[0m\u001b[1;33m\u001b[0m\u001b[0m\n\u001b[0;32m     60\u001b[0m     \u001b[0mrandom_val_ids\u001b[0m \u001b[1;33m=\u001b[0m \u001b[0mrandom\u001b[0m\u001b[1;33m.\u001b[0m\u001b[0mchoice\u001b[0m\u001b[1;33m(\u001b[0m\u001b[0mval_ids\u001b[0m\u001b[1;33m)\u001b[0m \u001b[1;31m# Choose a random validation ID\u001b[0m\u001b[1;33m\u001b[0m\u001b[1;33m\u001b[0m\u001b[0m\n\u001b[1;32m---> 61\u001b[1;33m     \u001b[0mvisualize_predictions\u001b[0m\u001b[1;33m(\u001b[0m\u001b[0mresult_path\u001b[0m\u001b[1;33m,\u001b[0m \u001b[0mimage_dict\u001b[0m\u001b[1;33m,\u001b[0m\u001b[1;33m[\u001b[0m\u001b[0mrandom_val_ids\u001b[0m\u001b[1;33m]\u001b[0m\u001b[1;33m,\u001b[0m\u001b[0mt_ext\u001b[0m \u001b[1;33m=\u001b[0m \u001b[0mt_ext\u001b[0m\u001b[1;33m,\u001b[0m \u001b[0mt_bound\u001b[0m \u001b[1;33m=\u001b[0m \u001b[0mt_bound\u001b[0m\u001b[1;33m,\u001b[0m \u001b[0mis2022\u001b[0m \u001b[1;33m=\u001b[0m \u001b[0mis2022\u001b[0m\u001b[1;33m)\u001b[0m\u001b[1;33m\u001b[0m\u001b[1;33m\u001b[0m\u001b[0m\n\u001b[0m\u001b[0;32m     62\u001b[0m     \u001b[0mprint\u001b[0m\u001b[1;33m(\u001b[0m\u001b[1;34m\"Visualization completed successfully.\"\u001b[0m\u001b[1;33m)\u001b[0m\u001b[1;33m\u001b[0m\u001b[1;33m\u001b[0m\u001b[0m\n\u001b[0;32m     63\u001b[0m \u001b[1;33m\u001b[0m\u001b[0m\n",
      "\u001b[1;32m<ipython-input-27-b021663dd4c3>\u001b[0m in \u001b[0;36mvisualize_predictions\u001b[1;34m(result_path, image_dict, val_ids, t_ext, t_bound, is2022)\u001b[0m\n\u001b[0;32m     11\u001b[0m     \u001b[0mprint\u001b[0m\u001b[1;33m(\u001b[0m\u001b[1;34mf\"Starting visualization with t_ext = {t_ext}, t_bound = {t_bound}\"\u001b[0m\u001b[1;33m)\u001b[0m\u001b[1;33m\u001b[0m\u001b[1;33m\u001b[0m\u001b[0m\n\u001b[0;32m     12\u001b[0m     \u001b[0mmodelPath\u001b[0m \u001b[1;33m=\u001b[0m \u001b[1;34mrf\"{get_model_file_name()}\"\u001b[0m\u001b[1;33m,\u001b[0m\u001b[1;33m\u001b[0m\u001b[1;33m\u001b[0m\u001b[0m\n\u001b[1;32m---> 13\u001b[1;33m     \u001b[0mnetPredict\u001b[0m \u001b[1;33m=\u001b[0m \u001b[0mmyModel\u001b[0m\u001b[1;33m.\u001b[0m\u001b[0mMyFractalResUNetcmtsk\u001b[0m\u001b[1;33m(\u001b[0m\u001b[1;32mTrue\u001b[0m\u001b[1;33m,\u001b[0m \u001b[0mmodelPath\u001b[0m\u001b[1;33m,\u001b[0m \u001b[0mctx\u001b[0m\u001b[1;33m)\u001b[0m\u001b[1;33m\u001b[0m\u001b[1;33m\u001b[0m\u001b[0m\n\u001b[0m\u001b[0;32m     14\u001b[0m     \u001b[0mious\u001b[0m\u001b[1;33m=\u001b[0m\u001b[1;33m[\u001b[0m\u001b[1;33m]\u001b[0m\u001b[1;33m\u001b[0m\u001b[1;33m\u001b[0m\u001b[0m\n\u001b[0;32m     15\u001b[0m \u001b[1;33m\u001b[0m\u001b[0m\n",
      "\u001b[1;32md:\\Source\\MasterThesis\\examples\\myModel.py\u001b[0m in \u001b[0;36m__init__\u001b[1;34m(self, isLoad, path, ctx, nfilters_init, depth, num_classes)\u001b[0m\n\u001b[0;32m      9\u001b[0m         \u001b[0mself\u001b[0m\u001b[1;33m.\u001b[0m\u001b[0mnet\u001b[0m\u001b[1;33m.\u001b[0m\u001b[0minitialize\u001b[0m\u001b[1;33m(\u001b[0m\u001b[0mmx\u001b[0m\u001b[1;33m.\u001b[0m\u001b[0minit\u001b[0m\u001b[1;33m.\u001b[0m\u001b[0mXavier\u001b[0m\u001b[1;33m(\u001b[0m\u001b[1;33m)\u001b[0m\u001b[1;33m,\u001b[0m \u001b[0mctx\u001b[0m\u001b[1;33m=\u001b[0m\u001b[0mctx\u001b[0m\u001b[1;33m)\u001b[0m\u001b[1;33m\u001b[0m\u001b[1;33m\u001b[0m\u001b[0m\n\u001b[0;32m     10\u001b[0m         \u001b[1;32mif\u001b[0m \u001b[0misLoad\u001b[0m\u001b[1;33m:\u001b[0m\u001b[1;33m\u001b[0m\u001b[1;33m\u001b[0m\u001b[0m\n\u001b[1;32m---> 11\u001b[1;33m             \u001b[0mself\u001b[0m\u001b[1;33m.\u001b[0m\u001b[0mnet\u001b[0m\u001b[1;33m.\u001b[0m\u001b[0mload_parameters\u001b[0m\u001b[1;33m(\u001b[0m\u001b[0mpath\u001b[0m\u001b[1;33m,\u001b[0m \u001b[0mctx\u001b[0m\u001b[1;33m=\u001b[0m\u001b[0mctx\u001b[0m\u001b[1;33m)\u001b[0m\u001b[1;33m\u001b[0m\u001b[1;33m\u001b[0m\u001b[0m\n\u001b[0m\u001b[0;32m     12\u001b[0m         \u001b[0mself\u001b[0m\u001b[1;33m.\u001b[0m\u001b[0mnet\u001b[0m\u001b[1;33m.\u001b[0m\u001b[0mhybridize\u001b[0m\u001b[1;33m(\u001b[0m\u001b[1;33m)\u001b[0m\u001b[1;33m\u001b[0m\u001b[1;33m\u001b[0m\u001b[0m\n\u001b[0;32m     13\u001b[0m \u001b[1;33m\u001b[0m\u001b[0m\n",
      "\u001b[1;32mc:\\Anaconda\\envs\\mxnet_36\\lib\\site-packages\\mxnet\\gluon\\block.py\u001b[0m in \u001b[0;36mload_parameters\u001b[1;34m(self, filename, ctx, allow_missing, ignore_extra)\u001b[0m\n\u001b[0;32m    368\u001b[0m         \u001b[1;33m<\u001b[0m\u001b[0mhttps\u001b[0m\u001b[1;33m:\u001b[0m\u001b[1;33m//\u001b[0m\u001b[0mmxnet\u001b[0m\u001b[1;33m.\u001b[0m\u001b[0mincubator\u001b[0m\u001b[1;33m.\u001b[0m\u001b[0mapache\u001b[0m\u001b[1;33m.\u001b[0m\u001b[0morg\u001b[0m\u001b[1;33m/\u001b[0m\u001b[0mtutorials\u001b[0m\u001b[1;33m/\u001b[0m\u001b[0mgluon\u001b[0m\u001b[1;33m/\u001b[0m\u001b[0msave_load_params\u001b[0m\u001b[1;33m.\u001b[0m\u001b[0mhtml\u001b[0m\u001b[1;33m>\u001b[0m\u001b[0;31m`\u001b[0m\u001b[0m_\u001b[0m\u001b[1;33m\u001b[0m\u001b[1;33m\u001b[0m\u001b[0m\n\u001b[0;32m    369\u001b[0m         \"\"\"\n\u001b[1;32m--> 370\u001b[1;33m         \u001b[0mloaded\u001b[0m \u001b[1;33m=\u001b[0m \u001b[0mndarray\u001b[0m\u001b[1;33m.\u001b[0m\u001b[0mload\u001b[0m\u001b[1;33m(\u001b[0m\u001b[0mfilename\u001b[0m\u001b[1;33m)\u001b[0m\u001b[1;33m\u001b[0m\u001b[1;33m\u001b[0m\u001b[0m\n\u001b[0m\u001b[0;32m    371\u001b[0m         \u001b[0mparams\u001b[0m \u001b[1;33m=\u001b[0m \u001b[0mself\u001b[0m\u001b[1;33m.\u001b[0m\u001b[0m_collect_params_with_prefix\u001b[0m\u001b[1;33m(\u001b[0m\u001b[1;33m)\u001b[0m\u001b[1;33m\u001b[0m\u001b[1;33m\u001b[0m\u001b[0m\n\u001b[0;32m    372\u001b[0m         \u001b[1;32mif\u001b[0m \u001b[1;32mnot\u001b[0m \u001b[0mloaded\u001b[0m \u001b[1;32mand\u001b[0m \u001b[1;32mnot\u001b[0m \u001b[0mparams\u001b[0m\u001b[1;33m:\u001b[0m\u001b[1;33m\u001b[0m\u001b[1;33m\u001b[0m\u001b[0m\n",
      "\u001b[1;32mc:\\Anaconda\\envs\\mxnet_36\\lib\\site-packages\\mxnet\\ndarray\\utils.py\u001b[0m in \u001b[0;36mload\u001b[1;34m(fname)\u001b[0m\n\u001b[0;32m    164\u001b[0m     \"\"\"\n\u001b[0;32m    165\u001b[0m     \u001b[1;32mif\u001b[0m \u001b[1;32mnot\u001b[0m \u001b[0misinstance\u001b[0m\u001b[1;33m(\u001b[0m\u001b[0mfname\u001b[0m\u001b[1;33m,\u001b[0m \u001b[0mstring_types\u001b[0m\u001b[1;33m)\u001b[0m\u001b[1;33m:\u001b[0m\u001b[1;33m\u001b[0m\u001b[1;33m\u001b[0m\u001b[0m\n\u001b[1;32m--> 166\u001b[1;33m         \u001b[1;32mraise\u001b[0m \u001b[0mTypeError\u001b[0m\u001b[1;33m(\u001b[0m\u001b[1;34m'fname required to be a string'\u001b[0m\u001b[1;33m)\u001b[0m\u001b[1;33m\u001b[0m\u001b[1;33m\u001b[0m\u001b[0m\n\u001b[0m\u001b[0;32m    167\u001b[0m     \u001b[0mout_size\u001b[0m \u001b[1;33m=\u001b[0m \u001b[0mmx_uint\u001b[0m\u001b[1;33m(\u001b[0m\u001b[1;33m)\u001b[0m\u001b[1;33m\u001b[0m\u001b[1;33m\u001b[0m\u001b[0m\n\u001b[0;32m    168\u001b[0m     \u001b[0mout_name_size\u001b[0m \u001b[1;33m=\u001b[0m \u001b[0mmx_uint\u001b[0m\u001b[1;33m(\u001b[0m\u001b[1;33m)\u001b[0m\u001b[1;33m\u001b[0m\u001b[1;33m\u001b[0m\u001b[0m\n",
      "\u001b[1;31mTypeError\u001b[0m: fname required to be a string"
     ]
    }
   ],
   "source": [
    "visualize(result_path,image_dict, val_ids, t_ext = 0.3, t_bound = 0.09)"
   ]
  },
  {
   "cell_type": "markdown",
   "metadata": {},
   "source": [
    "# Applying model in 2010 images"
   ]
  },
  {
   "cell_type": "code",
   "execution_count": null,
   "metadata": {},
   "outputs": [
    {
     "name": "stdout",
     "output_type": "stream",
     "text": [
      "D:\\Source\\Output\\Result_2010\\VNIR\\10\n",
      "D:\\Source\\Output\\Result_2010\\VNIR\\10\n"
     ]
    }
   ],
   "source": [
    "images_2010 = ImageDict(const.images_2010, False)\n",
    "testimages = 10\n",
    "image_2010_dict = images_2010.load_tif_files(imageType, numberOfimages=testimages)\n",
    "output_directory_2010 = os.path.join(const.result_2010, imageType, str(testimages))\n",
    "makedir(output_directory_2010)"
   ]
  },
  {
   "cell_type": "code",
   "execution_count": 1,
   "metadata": {},
   "outputs": [
    {
     "ename": "NameError",
     "evalue": "name 'visualize' is not defined",
     "output_type": "error",
     "traceback": [
      "\u001b[1;31m---------------------------------------------------------------------------\u001b[0m",
      "\u001b[1;31mNameError\u001b[0m                                 Traceback (most recent call last)",
      "\u001b[1;32m<ipython-input-1-9432b1e33437>\u001b[0m in \u001b[0;36m<module>\u001b[1;34m\u001b[0m\n\u001b[0;32m      1\u001b[0m \u001b[1;31m#list(image_2010_dict.keys())\u001b[0m\u001b[1;33m\u001b[0m\u001b[1;33m\u001b[0m\u001b[1;33m\u001b[0m\u001b[0m\n\u001b[1;32m----> 2\u001b[1;33m \u001b[0mvisualize\u001b[0m\u001b[1;33m(\u001b[0m\u001b[0mimage_2010_dict\u001b[0m\u001b[1;33m,\u001b[0m \u001b[0mlist\u001b[0m\u001b[1;33m(\u001b[0m\u001b[0mimage_2010_dict\u001b[0m\u001b[1;33m.\u001b[0m\u001b[0mkeys\u001b[0m\u001b[1;33m(\u001b[0m\u001b[1;33m)\u001b[0m\u001b[1;33m)\u001b[0m\u001b[1;33m,\u001b[0m  \u001b[0mt_ext\u001b[0m \u001b[1;33m=\u001b[0m \u001b[1;36m0.3\u001b[0m\u001b[1;33m,\u001b[0m \u001b[0mt_bound\u001b[0m \u001b[1;33m=\u001b[0m \u001b[1;36m0.09\u001b[0m\u001b[1;33m,\u001b[0m \u001b[0mis2022\u001b[0m\u001b[1;33m=\u001b[0m \u001b[1;32mFalse\u001b[0m\u001b[1;33m)\u001b[0m\u001b[1;33m\u001b[0m\u001b[1;33m\u001b[0m\u001b[0m\n\u001b[0m",
      "\u001b[1;31mNameError\u001b[0m: name 'visualize' is not defined"
     ]
    }
   ],
   "source": [
    "#list(image_2010_dict.keys())\n",
    "visualize(image_2010_dict, list(image_2010_dict.keys()),  t_ext = 0.3, t_bound = 0.09, is2022= False)"
   ]
  }
 ],
 "metadata": {
  "kernelspec": {
   "display_name": "mxnet_36",
   "language": "python",
   "name": "python3"
  },
  "language_info": {
   "codemirror_mode": {
    "name": "ipython",
    "version": 3
   },
   "file_extension": ".py",
   "mimetype": "text/x-python",
   "name": "python",
   "nbconvert_exporter": "python",
   "pygments_lexer": "ipython3",
   "version": "3.6.13"
  }
 },
 "nbformat": 4,
 "nbformat_minor": 2
}
